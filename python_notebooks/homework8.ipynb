{
 "cells": [
  {
   "cell_type": "code",
   "execution_count": 60,
   "id": "212f86dd-1268-43e1-bfe4-41fc82df3b2a",
   "metadata": {},
   "outputs": [],
   "source": [
    "import altair as alt\n",
    "import pandas as pd"
   ]
  },
  {
   "cell_type": "code",
   "execution_count": 61,
   "id": "c7bad0f0-2086-46dd-b650-2a0449cdef5c",
   "metadata": {},
   "outputs": [],
   "source": [
    "licenses_df = pd.read_csv('https://github.com/UIUC-iSchool-DataViz/is445_data/raw/main/licenses_fall2022.csv')"
   ]
  },
  {
   "cell_type": "code",
   "execution_count": 62,
   "id": "aadff180-b42a-46aa-96f4-78fed5e6740d",
   "metadata": {},
   "outputs": [],
   "source": [
    "myJekyllDir = '/Users/qiaoyue/Desktop/QiaoyueJoy.github.io/assets/json/'"
   ]
  },
  {
   "cell_type": "code",
   "execution_count": 63,
   "id": "ebc128d1-7f6d-43a4-a54b-4f6dea90a0d8",
   "metadata": {},
   "outputs": [],
   "source": [
    "# Convert 'Original Issue Date' to datetime format\n",
    "licenses_df.loc[:, 'Original Issue Date'] = pd.to_datetime(\n",
    "    licenses_df['Original Issue Date'], \n",
    "    format='%m/%d/%Y', \n",
    "    errors='coerce'\n",
    ")\n",
    "\n",
    "# Drop rows where 'Original Issue Date' could not be converted\n",
    "licenses_df = licenses_df.dropna(subset=['Original Issue Date'])\n",
    "\n",
    "# Count the number of licenses per city\n",
    "# Sort them to get the top 20 cities\n",
    "top_cities = licenses_df['City'].value_counts().head(20).reset_index()\n",
    "top_cities.columns = ['City', 'Count']"
   ]
  },
  {
   "cell_type": "code",
   "execution_count": 64,
   "id": "13df3634-8919-4938-96c3-0d01fd70007a",
   "metadata": {},
   "outputs": [
    {
     "data": {
      "text/html": [
       "\n",
       "<style>\n",
       "  #altair-viz-5ce9b71815574f4dabd4874313e28a52.vega-embed {\n",
       "    width: 100%;\n",
       "    display: flex;\n",
       "  }\n",
       "\n",
       "  #altair-viz-5ce9b71815574f4dabd4874313e28a52.vega-embed details,\n",
       "  #altair-viz-5ce9b71815574f4dabd4874313e28a52.vega-embed details summary {\n",
       "    position: relative;\n",
       "  }\n",
       "</style>\n",
       "<div id=\"altair-viz-5ce9b71815574f4dabd4874313e28a52\"></div>\n",
       "<script type=\"text/javascript\">\n",
       "  var VEGA_DEBUG = (typeof VEGA_DEBUG == \"undefined\") ? {} : VEGA_DEBUG;\n",
       "  (function(spec, embedOpt){\n",
       "    let outputDiv = document.currentScript.previousElementSibling;\n",
       "    if (outputDiv.id !== \"altair-viz-5ce9b71815574f4dabd4874313e28a52\") {\n",
       "      outputDiv = document.getElementById(\"altair-viz-5ce9b71815574f4dabd4874313e28a52\");\n",
       "    }\n",
       "    const paths = {\n",
       "      \"vega\": \"https://cdn.jsdelivr.net/npm/vega@5?noext\",\n",
       "      \"vega-lib\": \"https://cdn.jsdelivr.net/npm/vega-lib?noext\",\n",
       "      \"vega-lite\": \"https://cdn.jsdelivr.net/npm/vega-lite@5.15.1?noext\",\n",
       "      \"vega-embed\": \"https://cdn.jsdelivr.net/npm/vega-embed@6?noext\",\n",
       "    };\n",
       "\n",
       "    function maybeLoadScript(lib, version) {\n",
       "      var key = `${lib.replace(\"-\", \"\")}_version`;\n",
       "      return (VEGA_DEBUG[key] == version) ?\n",
       "        Promise.resolve(paths[lib]) :\n",
       "        new Promise(function(resolve, reject) {\n",
       "          var s = document.createElement('script');\n",
       "          document.getElementsByTagName(\"head\")[0].appendChild(s);\n",
       "          s.async = true;\n",
       "          s.onload = () => {\n",
       "            VEGA_DEBUG[key] = version;\n",
       "            return resolve(paths[lib]);\n",
       "          };\n",
       "          s.onerror = () => reject(`Error loading script: ${paths[lib]}`);\n",
       "          s.src = paths[lib];\n",
       "        });\n",
       "    }\n",
       "\n",
       "    function showError(err) {\n",
       "      outputDiv.innerHTML = `<div class=\"error\" style=\"color:red;\">${err}</div>`;\n",
       "      throw err;\n",
       "    }\n",
       "\n",
       "    function displayChart(vegaEmbed) {\n",
       "      vegaEmbed(outputDiv, spec, embedOpt)\n",
       "        .catch(err => showError(`Javascript Error: ${err.message}<br>This usually means there's a typo in your chart specification. See the javascript console for the full traceback.`));\n",
       "    }\n",
       "\n",
       "    if(typeof define === \"function\" && define.amd) {\n",
       "      requirejs.config({paths});\n",
       "      require([\"vega-embed\"], displayChart, err => showError(`Error loading script: ${err.message}`));\n",
       "    } else {\n",
       "      maybeLoadScript(\"vega\", \"5\")\n",
       "        .then(() => maybeLoadScript(\"vega-lite\", \"5.15.1\"))\n",
       "        .then(() => maybeLoadScript(\"vega-embed\", \"6\"))\n",
       "        .catch(showError)\n",
       "        .then(() => displayChart(vegaEmbed));\n",
       "    }\n",
       "  })({\"config\": {\"view\": {\"continuousWidth\": 300, \"continuousHeight\": 300}}, \"data\": {\"name\": \"data-3ef61e81016348d2e0434bc02fcd8b50\"}, \"mark\": {\"type\": \"bar\"}, \"encoding\": {\"color\": {\"condition\": {\"param\": \"param_31\", \"value\": \"steelblue\"}, \"value\": \"lightgray\"}, \"tooltip\": [{\"field\": \"City\", \"type\": \"nominal\"}, {\"field\": \"Count\", \"type\": \"quantitative\"}], \"x\": {\"field\": \"City\", \"sort\": \"-y\", \"title\": \"City\", \"type\": \"nominal\"}, \"y\": {\"field\": \"Count\", \"title\": \"Number of Licenses Issued\", \"type\": \"quantitative\"}}, \"params\": [{\"name\": \"param_31\", \"select\": {\"type\": \"point\", \"fields\": [\"City\"], \"nearest\": true, \"on\": \"mouseover\"}}], \"title\": \"Number of Licenses Issued by City (Top 20 Cities)\", \"width\": 600, \"$schema\": \"https://vega.github.io/schema/vega-lite/v5.15.1.json\", \"datasets\": {\"data-3ef61e81016348d2e0434bc02fcd8b50\": [{\"City\": \"CHICAGO\", \"Count\": 2933}, {\"City\": \"ROCKFORD\", \"Count\": 127}, {\"City\": \"SPRINGFIELD\", \"Count\": 115}, {\"City\": \"JOLIET\", \"Count\": 113}, {\"City\": \"AURORA\", \"Count\": 99}, {\"City\": \"NAPERVILLE\", \"Count\": 85}, {\"City\": \"DECATUR\", \"Count\": 77}, {\"City\": \"PEORIA\", \"Count\": 73}, {\"City\": \"SKOKIE\", \"Count\": 64}, {\"City\": \"OAK LAWN\", \"Count\": 63}, {\"City\": \"DES PLAINES\", \"Count\": 61}, {\"City\": \"ARLINGTON HEIGHTS\", \"Count\": 51}, {\"City\": \"ELGIN\", \"Count\": 50}, {\"City\": \"BLOOMINGTON\", \"Count\": 50}, {\"City\": \"SCHAUMBURG\", \"Count\": 49}, {\"City\": \"BOLINGBROOK\", \"Count\": 49}, {\"City\": \"WAUKEGAN\", \"Count\": 47}, {\"City\": \"DOWNERS GROVE\", \"Count\": 46}, {\"City\": \"BLUE ISLAND\", \"Count\": 45}, {\"City\": \"TINLEY PARK\", \"Count\": 44}]}}, {\"mode\": \"vega-lite\"});\n",
       "</script>"
      ],
      "text/plain": [
       "alt.Chart(...)"
      ]
     },
     "execution_count": 64,
     "metadata": {},
     "output_type": "execute_result"
    }
   ],
   "source": [
    "# Define a mouseover highlighting bars by point selection\n",
    "highlight = alt.selection_point(on='mouseover', fields=['City'], nearest=True)\n",
    "\n",
    "# Create bar chart\n",
    "city_chart = alt.Chart(top_cities).mark_bar().encode(\n",
    "    x=alt.X('City:N', sort='-y', title='City'),\n",
    "    y=alt.Y('Count:Q', title='Number of Licenses Issued'),\n",
    "    color=alt.condition(highlight, alt.value(\"steelblue\"), alt.value(\"lightgray\")),\n",
    "    tooltip=['City:N', 'Count:Q']\n",
    ").properties(\n",
    "    title='Number of Licenses Issued by City (Top 20 Cities)',\n",
    "    width=600\n",
    ").add_params(\n",
    "    highlight\n",
    ")\n",
    "\n",
    "city_chart"
   ]
  },
  {
   "cell_type": "code",
   "execution_count": 65,
   "id": "ee014edb-904d-4cea-bce5-ab0807ece4a2",
   "metadata": {},
   "outputs": [],
   "source": [
    "city_chart.properties(width='container').save(myJekyllDir+'city_chart.json')"
   ]
  },
  {
   "cell_type": "code",
   "execution_count": 66,
   "id": "4bdb625f-3097-4a25-999a-6cd08cb7737d",
   "metadata": {},
   "outputs": [],
   "source": [
    "# Data transformations\n",
    "licenses_df.loc[:, 'Original Issue Date'] = pd.to_datetime(\n",
    "    licenses_df['Original Issue Date'],\n",
    "    errors='coerce'\n",
    ")\n",
    "licenses_df = licenses_df.dropna(subset=['Original Issue Date'])\n",
    "\n",
    "# Get the year from 'Original Issue Date'\n",
    "licenses_df['Year'] = licenses_df['Original Issue Date'].dt.year\n",
    "\n",
    "# Group by 'Year' and \n",
    "# Count the licenses of each year\n",
    "licenses_per_year = licenses_df.groupby('Year').size().reset_index(name='Counts')"
   ]
  },
  {
   "cell_type": "code",
   "execution_count": 67,
   "id": "cc561278-6fd4-4f59-884d-1ee857f161c3",
   "metadata": {},
   "outputs": [
    {
     "data": {
      "text/html": [
       "\n",
       "<style>\n",
       "  #altair-viz-ff085cbead4b4a17969e331af8a83fdd.vega-embed {\n",
       "    width: 100%;\n",
       "    display: flex;\n",
       "  }\n",
       "\n",
       "  #altair-viz-ff085cbead4b4a17969e331af8a83fdd.vega-embed details,\n",
       "  #altair-viz-ff085cbead4b4a17969e331af8a83fdd.vega-embed details summary {\n",
       "    position: relative;\n",
       "  }\n",
       "</style>\n",
       "<div id=\"altair-viz-ff085cbead4b4a17969e331af8a83fdd\"></div>\n",
       "<script type=\"text/javascript\">\n",
       "  var VEGA_DEBUG = (typeof VEGA_DEBUG == \"undefined\") ? {} : VEGA_DEBUG;\n",
       "  (function(spec, embedOpt){\n",
       "    let outputDiv = document.currentScript.previousElementSibling;\n",
       "    if (outputDiv.id !== \"altair-viz-ff085cbead4b4a17969e331af8a83fdd\") {\n",
       "      outputDiv = document.getElementById(\"altair-viz-ff085cbead4b4a17969e331af8a83fdd\");\n",
       "    }\n",
       "    const paths = {\n",
       "      \"vega\": \"https://cdn.jsdelivr.net/npm/vega@5?noext\",\n",
       "      \"vega-lib\": \"https://cdn.jsdelivr.net/npm/vega-lib?noext\",\n",
       "      \"vega-lite\": \"https://cdn.jsdelivr.net/npm/vega-lite@5.15.1?noext\",\n",
       "      \"vega-embed\": \"https://cdn.jsdelivr.net/npm/vega-embed@6?noext\",\n",
       "    };\n",
       "\n",
       "    function maybeLoadScript(lib, version) {\n",
       "      var key = `${lib.replace(\"-\", \"\")}_version`;\n",
       "      return (VEGA_DEBUG[key] == version) ?\n",
       "        Promise.resolve(paths[lib]) :\n",
       "        new Promise(function(resolve, reject) {\n",
       "          var s = document.createElement('script');\n",
       "          document.getElementsByTagName(\"head\")[0].appendChild(s);\n",
       "          s.async = true;\n",
       "          s.onload = () => {\n",
       "            VEGA_DEBUG[key] = version;\n",
       "            return resolve(paths[lib]);\n",
       "          };\n",
       "          s.onerror = () => reject(`Error loading script: ${paths[lib]}`);\n",
       "          s.src = paths[lib];\n",
       "        });\n",
       "    }\n",
       "\n",
       "    function showError(err) {\n",
       "      outputDiv.innerHTML = `<div class=\"error\" style=\"color:red;\">${err}</div>`;\n",
       "      throw err;\n",
       "    }\n",
       "\n",
       "    function displayChart(vegaEmbed) {\n",
       "      vegaEmbed(outputDiv, spec, embedOpt)\n",
       "        .catch(err => showError(`Javascript Error: ${err.message}<br>This usually means there's a typo in your chart specification. See the javascript console for the full traceback.`));\n",
       "    }\n",
       "\n",
       "    if(typeof define === \"function\" && define.amd) {\n",
       "      requirejs.config({paths});\n",
       "      require([\"vega-embed\"], displayChart, err => showError(`Error loading script: ${err.message}`));\n",
       "    } else {\n",
       "      maybeLoadScript(\"vega\", \"5\")\n",
       "        .then(() => maybeLoadScript(\"vega-lite\", \"5.15.1\"))\n",
       "        .then(() => maybeLoadScript(\"vega-embed\", \"6\"))\n",
       "        .catch(showError)\n",
       "        .then(() => displayChart(vegaEmbed));\n",
       "    }\n",
       "  })({\"config\": {\"view\": {\"continuousWidth\": 300, \"continuousHeight\": 300}}, \"data\": {\"name\": \"data-0e810edd7035607a5097dfd145cc7852\"}, \"mark\": {\"type\": \"bar\"}, \"encoding\": {\"tooltip\": [{\"field\": \"Year\", \"type\": \"ordinal\"}, {\"field\": \"Counts\", \"type\": \"quantitative\"}], \"x\": {\"field\": \"Year\", \"title\": \"Year\", \"type\": \"ordinal\"}, \"y\": {\"field\": \"Counts\", \"title\": \"Number of Licenses Issued\", \"type\": \"quantitative\"}}, \"params\": [{\"name\": \"param_32\", \"select\": {\"type\": \"interval\", \"encodings\": [\"x\", \"y\"]}, \"bind\": \"scales\"}], \"title\": \"Licenses Issued Each Year\", \"$schema\": \"https://vega.github.io/schema/vega-lite/v5.15.1.json\", \"datasets\": {\"data-0e810edd7035607a5097dfd145cc7852\": [{\"Year\": 1912, \"Counts\": 1}, {\"Year\": 1918, \"Counts\": 1}, {\"Year\": 1919, \"Counts\": 2}, {\"Year\": 1923, \"Counts\": 1}, {\"Year\": 1926, \"Counts\": 5}, {\"Year\": 1928, \"Counts\": 1}, {\"Year\": 1929, \"Counts\": 2}, {\"Year\": 1930, \"Counts\": 3}, {\"Year\": 1931, \"Counts\": 1}, {\"Year\": 1932, \"Counts\": 1}, {\"Year\": 1933, \"Counts\": 4}, {\"Year\": 1934, \"Counts\": 4}, {\"Year\": 1935, \"Counts\": 3}, {\"Year\": 1936, \"Counts\": 2}, {\"Year\": 1937, \"Counts\": 2}, {\"Year\": 1938, \"Counts\": 7}, {\"Year\": 1939, \"Counts\": 6}, {\"Year\": 1940, \"Counts\": 9}, {\"Year\": 1941, \"Counts\": 4}, {\"Year\": 1942, \"Counts\": 4}, {\"Year\": 1943, \"Counts\": 5}, {\"Year\": 1944, \"Counts\": 4}, {\"Year\": 1945, \"Counts\": 4}, {\"Year\": 1946, \"Counts\": 8}, {\"Year\": 1947, \"Counts\": 8}, {\"Year\": 1948, \"Counts\": 5}, {\"Year\": 1949, \"Counts\": 9}, {\"Year\": 1950, \"Counts\": 4}, {\"Year\": 1951, \"Counts\": 6}, {\"Year\": 1952, \"Counts\": 7}, {\"Year\": 1953, \"Counts\": 5}, {\"Year\": 1954, \"Counts\": 6}, {\"Year\": 1955, \"Counts\": 6}, {\"Year\": 1956, \"Counts\": 10}, {\"Year\": 1957, \"Counts\": 4}, {\"Year\": 1958, \"Counts\": 9}, {\"Year\": 1959, \"Counts\": 15}, {\"Year\": 1960, \"Counts\": 16}, {\"Year\": 1961, \"Counts\": 16}, {\"Year\": 1962, \"Counts\": 14}, {\"Year\": 1963, \"Counts\": 15}, {\"Year\": 1964, \"Counts\": 19}, {\"Year\": 1965, \"Counts\": 19}, {\"Year\": 1966, \"Counts\": 21}, {\"Year\": 1967, \"Counts\": 13}, {\"Year\": 1968, \"Counts\": 20}, {\"Year\": 1969, \"Counts\": 23}, {\"Year\": 1970, \"Counts\": 20}, {\"Year\": 1971, \"Counts\": 22}, {\"Year\": 1972, \"Counts\": 46}, {\"Year\": 1973, \"Counts\": 65}, {\"Year\": 1974, \"Counts\": 65}, {\"Year\": 1975, \"Counts\": 52}, {\"Year\": 1976, \"Counts\": 54}, {\"Year\": 1977, \"Counts\": 58}, {\"Year\": 1978, \"Counts\": 48}, {\"Year\": 1979, \"Counts\": 89}, {\"Year\": 1980, \"Counts\": 87}, {\"Year\": 1981, \"Counts\": 110}, {\"Year\": 1982, \"Counts\": 103}, {\"Year\": 1983, \"Counts\": 98}, {\"Year\": 1984, \"Counts\": 76}, {\"Year\": 1985, \"Counts\": 86}, {\"Year\": 1986, \"Counts\": 84}, {\"Year\": 1987, \"Counts\": 202}, {\"Year\": 1988, \"Counts\": 183}, {\"Year\": 1989, \"Counts\": 194}, {\"Year\": 1990, \"Counts\": 189}, {\"Year\": 1991, \"Counts\": 191}, {\"Year\": 1992, \"Counts\": 176}, {\"Year\": 1993, \"Counts\": 206}, {\"Year\": 1994, \"Counts\": 217}, {\"Year\": 1995, \"Counts\": 290}, {\"Year\": 1996, \"Counts\": 219}, {\"Year\": 1997, \"Counts\": 205}, {\"Year\": 1998, \"Counts\": 1085}, {\"Year\": 1999, \"Counts\": 179}, {\"Year\": 2000, \"Counts\": 187}, {\"Year\": 2001, \"Counts\": 197}, {\"Year\": 2002, \"Counts\": 228}, {\"Year\": 2003, \"Counts\": 202}, {\"Year\": 2004, \"Counts\": 208}, {\"Year\": 2005, \"Counts\": 198}, {\"Year\": 2006, \"Counts\": 221}, {\"Year\": 2007, \"Counts\": 209}, {\"Year\": 2008, \"Counts\": 220}, {\"Year\": 2009, \"Counts\": 220}, {\"Year\": 2010, \"Counts\": 261}, {\"Year\": 2011, \"Counts\": 237}, {\"Year\": 2012, \"Counts\": 238}, {\"Year\": 2013, \"Counts\": 242}, {\"Year\": 2014, \"Counts\": 231}, {\"Year\": 2015, \"Counts\": 252}, {\"Year\": 2016, \"Counts\": 234}, {\"Year\": 2017, \"Counts\": 198}, {\"Year\": 2018, \"Counts\": 221}, {\"Year\": 2019, \"Counts\": 251}, {\"Year\": 2020, \"Counts\": 197}, {\"Year\": 2021, \"Counts\": 198}, {\"Year\": 2022, \"Counts\": 92}]}}, {\"mode\": \"vega-lite\"});\n",
       "</script>"
      ],
      "text/plain": [
       "alt.Chart(...)"
      ]
     },
     "execution_count": 67,
     "metadata": {},
     "output_type": "execute_result"
    }
   ],
   "source": [
    "# Create bar chart\n",
    "year_chart = alt.Chart(licenses_per_year).mark_bar().encode(\n",
    "    x=alt.X('Year:O', title='Year'),  # Use ordinal scale as we have discrete values\n",
    "    y=alt.Y('Counts:Q', title='Number of Licenses Issued'),\n",
    "    tooltip=['Year:O', 'Counts:Q']\n",
    ").properties(\n",
    "    title='Licenses Issued Each Year'\n",
    ").interactive()\n",
    "\n",
    "year_chart"
   ]
  },
  {
   "cell_type": "code",
   "execution_count": 68,
   "id": "d0641739-6806-4eba-87e2-878d0e62990e",
   "metadata": {},
   "outputs": [],
   "source": [
    "year_chart.properties(width='container').save(myJekyllDir+'year_chart.json')"
   ]
  },
  {
   "cell_type": "code",
   "execution_count": null,
   "id": "07bf7d12-2dd3-4747-a11c-fc424d2cde57",
   "metadata": {},
   "outputs": [],
   "source": []
  },
  {
   "cell_type": "code",
   "execution_count": null,
   "id": "c6f30152-6c13-4a6d-94ab-5fdf18cf18ec",
   "metadata": {},
   "outputs": [],
   "source": []
  }
 ],
 "metadata": {
  "kernelspec": {
   "display_name": "Python 3 (ipykernel)",
   "language": "python",
   "name": "python3"
  },
  "language_info": {
   "codemirror_mode": {
    "name": "ipython",
    "version": 3
   },
   "file_extension": ".py",
   "mimetype": "text/x-python",
   "name": "python",
   "nbconvert_exporter": "python",
   "pygments_lexer": "ipython3",
   "version": "3.9.13"
  }
 },
 "nbformat": 4,
 "nbformat_minor": 5
}
